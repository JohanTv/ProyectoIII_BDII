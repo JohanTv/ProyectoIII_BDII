{
 "cells": [
  {
   "cell_type": "code",
   "execution_count": 4,
   "source": [
    "from rtree import index\n",
    "import pickle\n",
    "\n",
    "scaler_path = \"./bin/scaler.dat\"\n",
    "pca_path = \"./bin/pca.dat\"\n",
    "ncomponents_path = \"./bin/ncomponents.dat\"\n",
    "\n",
    "scaler = pickle.load(open(scaler_path, \"rb\"))\n",
    "pca = pickle.load(open(pca_path, \"rb\"))\n",
    "ncomponents = pickle.load(open(ncomponents_path, \"rb\"))\n",
    "\n",
    "path = \"./bin/rtree_index\"\n",
    "p = index.Property()\n",
    "p.dimension = ncomponents #D\n",
    "\n",
    "idx = index.Index(path, properties=p)"
   ],
   "outputs": [],
   "metadata": {}
  },
  {
   "cell_type": "code",
   "execution_count": 19,
   "source": [
    "import pandas as pd\n",
    "import numpy as np\n",
    "def generate_df(x):\n",
    "    return pd.DataFrame(data=x, columns = [str(i) for i in range(1, 129)])\n",
    "\n",
    "def generate_point(v):\n",
    "    return tuple(np.concatenate([v, v]))"
   ],
   "outputs": [],
   "metadata": {}
  },
  {
   "cell_type": "code",
   "execution_count": 14,
   "source": [
    "import face_recognition\n",
    "image_path = \"test/Roger_Moore_0004.jpg\"\n",
    "picture = face_recognition.load_image_file(image_path)    \n",
    "all_face_encodings = face_recognition.face_encodings(picture)\n",
    "x = generate_df(all_face_encodings)"
   ],
   "outputs": [],
   "metadata": {}
  },
  {
   "cell_type": "code",
   "execution_count": 20,
   "source": [
    "x_scaled = scaler.transform(x)\n",
    "x_pca = pca.transform(x_scaled)\n",
    "point = generate_point(x_pca[0])"
   ],
   "outputs": [],
   "metadata": {}
  },
  {
   "cell_type": "code",
   "execution_count": 21,
   "source": [
    "lres = list(idx.nearest(coordinates=point, num_results=5, objects=\"raw\"))\n",
    "print(\"Resultado Knn: \", lres)"
   ],
   "outputs": [
    {
     "output_type": "stream",
     "name": "stdout",
     "text": [
      "Resultado Knn:  ['Roger_Moore/Roger_Moore_0004.jpg', 'Roger_Moore/Roger_Moore_0001.jpg', 'Roger_Moore/Roger_Moore_0003.jpg', 'Roger_Moore/Roger_Moore_0002.jpg', 'Enrique_Bolanos/Enrique_Bolanos_0003.jpg']\n"
     ]
    }
   ],
   "metadata": {}
  }
 ],
 "metadata": {
  "orig_nbformat": 4,
  "language_info": {
   "name": "python"
  }
 },
 "nbformat": 4,
 "nbformat_minor": 2
}