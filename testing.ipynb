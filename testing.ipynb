{
 "cells": [
  {
   "cell_type": "code",
   "execution_count": 45,
   "source": [
    "from rtree import index\n",
    "import face_recognition\n",
    "import pickle\n",
    "import pandas as pd\n",
    "import numpy as np\n",
    "from queue import PriorityQueue\n",
    "\n",
    "scaler_path = \"./bin/scaler.dat\"\n",
    "pca_path = \"./bin/pca.dat\"\n",
    "ncomponents_path = \"./bin/ncomponents.dat\"\n",
    "\n",
    "scaler = pickle.load(open(scaler_path, \"rb\"))\n",
    "pca = pickle.load(open(pca_path, \"rb\"))\n",
    "ncomponents = pickle.load(open(ncomponents_path, \"rb\"))\n",
    "df = pd.read_csv(\"./data/datasetv2.csv\")"
   ],
   "outputs": [],
   "metadata": {}
  },
  {
   "cell_type": "code",
   "execution_count": 24,
   "source": [
    "features = [str(i) for i in range(1, ncomponents+1)]\n",
    "collection = df.loc[:, features]\n",
    "y = df.loc[:, [\"path\"]]\n",
    "y.tail(5)"
   ],
   "outputs": [
    {
     "output_type": "execute_result",
     "data": {
      "text/plain": [
       "                                             path\n",
       "14517            Roger_Moore/Roger_Moore_0002.jpg\n",
       "14518            Roger_Moore/Roger_Moore_0004.jpg\n",
       "14519  Infanta_Cristina/Infanta_Cristina_0001.jpg\n",
       "14520              Iva_Majoli/Iva_Majoli_0002.jpg\n",
       "14521              Iva_Majoli/Iva_Majoli_0001.jpg"
      ],
      "text/html": [
       "<div>\n",
       "<style scoped>\n",
       "    .dataframe tbody tr th:only-of-type {\n",
       "        vertical-align: middle;\n",
       "    }\n",
       "\n",
       "    .dataframe tbody tr th {\n",
       "        vertical-align: top;\n",
       "    }\n",
       "\n",
       "    .dataframe thead th {\n",
       "        text-align: right;\n",
       "    }\n",
       "</style>\n",
       "<table border=\"1\" class=\"dataframe\">\n",
       "  <thead>\n",
       "    <tr style=\"text-align: right;\">\n",
       "      <th></th>\n",
       "      <th>path</th>\n",
       "    </tr>\n",
       "  </thead>\n",
       "  <tbody>\n",
       "    <tr>\n",
       "      <th>14517</th>\n",
       "      <td>Roger_Moore/Roger_Moore_0002.jpg</td>\n",
       "    </tr>\n",
       "    <tr>\n",
       "      <th>14518</th>\n",
       "      <td>Roger_Moore/Roger_Moore_0004.jpg</td>\n",
       "    </tr>\n",
       "    <tr>\n",
       "      <th>14519</th>\n",
       "      <td>Infanta_Cristina/Infanta_Cristina_0001.jpg</td>\n",
       "    </tr>\n",
       "    <tr>\n",
       "      <th>14520</th>\n",
       "      <td>Iva_Majoli/Iva_Majoli_0002.jpg</td>\n",
       "    </tr>\n",
       "    <tr>\n",
       "      <th>14521</th>\n",
       "      <td>Iva_Majoli/Iva_Majoli_0001.jpg</td>\n",
       "    </tr>\n",
       "  </tbody>\n",
       "</table>\n",
       "</div>"
      ]
     },
     "metadata": {},
     "execution_count": 24
    }
   ],
   "metadata": {}
  },
  {
   "cell_type": "code",
   "execution_count": 44,
   "source": [
    "def generate_df(x):\n",
    "    return pd.DataFrame(data=x, columns = [str(i) for i in range(1, 129)])\n",
    "\n",
    "def ED(v1, v2):\n",
    "    return np.linalg.norm(v1-v2)\n",
    "\n",
    "def range_seach(collection, query, radio):\n",
    "    result = []\n",
    "    nrows = collection.shape[0]\n",
    "    for i in range(nrows):\n",
    "        dist = ED(collection.iloc[i].values, query)\n",
    "        if(dist < radio):\n",
    "            image_path = y.iloc[i].values[0]\n",
    "            result.append((dist, image_path))\n",
    "    return result\n",
    "\n",
    "def parser_image(image_path):\n",
    "    picture = face_recognition.load_image_file(image_path)    \n",
    "    all_face_encodings = face_recognition.face_encodings(picture)\n",
    "    x = generate_df(all_face_encodings)\n",
    "    x_scaled = scaler.transform(x)\n",
    "    x_pca = pca.transform(x_scaled)\n",
    "    return x_pca[0]\n",
    "\n",
    "def searchKNN_sequential(collection, query, k):\n",
    "    pq = PriorityQueue()\n",
    "    nrows = collection.shape[0]\n",
    "    for i in range(nrows):\n",
    "        dist = ED(collection.iloc[i].values, query) * (-1)\n",
    "        image_path = y.iloc[i].values[0]\n",
    "        if(pq.qsize() < k):\n",
    "            pq.put((dist, image_path))\n",
    "        else:\n",
    "            top = pq.get()\n",
    "            if(dist > top[0]):\n",
    "                pq.put((dist, image_path))\n",
    "            else:\n",
    "                pq.put(top)\n",
    "    result = [0] * k\n",
    "    i = k - 1\n",
    "    while not pq.empty():\n",
    "        data = pq.get()\n",
    "        result[i] = data\n",
    "        i -= 1\n",
    "    return result"
   ],
   "outputs": [],
   "metadata": {}
  },
  {
   "cell_type": "code",
   "execution_count": 39,
   "source": [
    "image_path = \"test/Roger_Moore_0004.jpg\"\n",
    "x_pca = parser_image(image_path)\n"
   ],
   "outputs": [],
   "metadata": {}
  },
  {
   "cell_type": "code",
   "execution_count": 49,
   "source": [
    "radio = 10 # [9, 11]\n",
    "result = range_seach(collection, x_pca, radio)\n",
    "#result = searchKNN_sequential(collection, x_pca, 6)\n",
    "print(len(result))"
   ],
   "outputs": [
    {
     "output_type": "stream",
     "name": "stdout",
     "text": [
      "5\n"
     ]
    }
   ],
   "metadata": {}
  },
  {
   "cell_type": "code",
   "execution_count": 48,
   "source": [
    "for item in result:\n",
    "    print(item[1])"
   ],
   "outputs": [
    {
     "output_type": "stream",
     "name": "stdout",
     "text": [
      "Roger_Moore/Roger_Moore_0004.jpg\n",
      "Roger_Moore/Roger_Moore_0001.jpg\n",
      "Roger_Moore/Roger_Moore_0003.jpg\n",
      "Roger_Moore/Roger_Moore_0002.jpg\n",
      "Enrique_Bolanos/Enrique_Bolanos_0003.jpg\n",
      "Roger_Moore/Roger_Moore_0005.jpg\n"
     ]
    }
   ],
   "metadata": {}
  }
 ],
 "metadata": {
  "orig_nbformat": 4,
  "language_info": {
   "name": "python",
   "version": "3.8.10",
   "mimetype": "text/x-python",
   "codemirror_mode": {
    "name": "ipython",
    "version": 3
   },
   "pygments_lexer": "ipython3",
   "nbconvert_exporter": "python",
   "file_extension": ".py"
  },
  "kernelspec": {
   "name": "python3",
   "display_name": "Python 3.8.10 64-bit"
  },
  "interpreter": {
   "hash": "31f2aee4e71d21fbe5cf8b01ff0e069b9275f58929596ceb00d14d90e3e16cd6"
  }
 },
 "nbformat": 4,
 "nbformat_minor": 2
}